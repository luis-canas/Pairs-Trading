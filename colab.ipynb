{
 "cells": [
  {
   "cell_type": "code",
   "execution_count": 1,
   "metadata": {},
   "outputs": [],
   "source": [
    "pairs_alg='DIST'\n",
    "trading_alg='TH'\n",
    "index=\"s&p500\"\n",
    "sector=\"Real Estate\"\n",
    "start_date=(2015,1,1)\n",
    "end_date=(2022,1,1)\n",
    "months_trading = 12\n",
    "months_forming = 36\n",
    "\n",
    "command = [\"python\", \"main.py\",\n",
    "           \"--pairs_alg\", pairs_alg,\n",
    "           \"--trading_alg\", trading_alg,\n",
    "           \"--index\", index,\n",
    "           \"--sector\", sector,\n",
    "           \"--start_date\", f\"{start_date[0]},{start_date[1]},{start_date[2]}\",\n",
    "           \"--end_date\", f\"{end_date[0]},{end_date[1]},{end_date[2]}\",\n",
    "           \"--months_trading\", str(months_trading),\n",
    "           \"--months_forming\", str(months_forming)]"
   ]
  },
  {
   "cell_type": "code",
   "execution_count": 2,
   "metadata": {},
   "outputs": [
    {
     "name": "stdout",
     "output_type": "stream",
     "text": [
      "Completed successfully.\n",
      "\n"
     ]
    }
   ],
   "source": [
    "import subprocess\n",
    "\n",
    "# Execute the command\n",
    "execute = subprocess.run(command, capture_output=True, text=True)\n",
    "\n",
    "# Print the output and check for errors\n",
    "if execute.returncode != 0:\n",
    "    print(\"Error occurred.\")\n",
    "    print(execute.stderr)\n",
    "else:\n",
    "    print(\"Completed successfully.\")\n",
    "    print(execute.stdout)"
   ]
  },
  {
   "cell_type": "code",
   "execution_count": 2,
   "metadata": {},
   "outputs": [
    {
     "name": "stdout",
     "output_type": "stream",
     "text": [
      "[{'model': 'DIST',\n",
      "  'formation_start': '2015-01-01',\n",
      "  'formation_end': '2018-01-01',\n",
      "  'n_tickers': 28,\n",
      "  'n_pairs': 20,\n",
      "  'n_unique_tickers': 17,\n",
      "  'pairs': [...]},\n",
      " {'portfolio_start': 1000.0,\n",
      "  'portfolio_end': 976.4146534697364,\n",
      "  'portfolio_values': [...],\n",
      "  'simulation_start': '2018-01-01',\n",
      "  'simulation_end': '2019-01-01',\n",
      "  'cash': [...],\n",
      "  'profit_pairs': 6,\n",
      "  'loss_pairs': 14,\n",
      "  'non_convergent_pairs': 5,\n",
      "  'roi': -2.3585346530263536}]\n",
      "[{'model': 'DIST',\n",
      "  'formation_start': '2016-01-01',\n",
      "  'formation_end': '2019-01-01',\n",
      "  'n_tickers': 28,\n",
      "  'n_pairs': 20,\n",
      "  'n_unique_tickers': 16,\n",
      "  'pairs': [...]},\n",
      " {'portfolio_start': 976.4146534697369,\n",
      "  'portfolio_end': 966.536771888726,\n",
      "  'portfolio_values': [...],\n",
      "  'simulation_start': '2019-01-01',\n",
      "  'simulation_end': '2020-01-01',\n",
      "  'cash': [...],\n",
      "  'profit_pairs': 7,\n",
      "  'loss_pairs': 13,\n",
      "  'non_convergent_pairs': 3,\n",
      "  'roi': -1.0116482322247862}]\n",
      "[{'model': 'DIST',\n",
      "  'formation_start': '2017-01-01',\n",
      "  'formation_end': '2020-01-01',\n",
      "  'n_tickers': 28,\n",
      "  'n_pairs': 20,\n",
      "  'n_unique_tickers': 17,\n",
      "  'pairs': [...]},\n",
      " {'portfolio_start': 966.5367718887256,\n",
      "  'portfolio_end': 961.9304933781835,\n",
      "  'portfolio_values': [...],\n",
      "  'simulation_start': '2020-01-01',\n",
      "  'simulation_end': '2021-01-01',\n",
      "  'cash': [...],\n",
      "  'profit_pairs': 8,\n",
      "  'loss_pairs': 12,\n",
      "  'non_convergent_pairs': 2,\n",
      "  'roi': -0.47657560938331756}]\n",
      "[{'model': 'DIST',\n",
      "  'formation_start': '2018-01-01',\n",
      "  'formation_end': '2021-01-01',\n",
      "  'n_tickers': 28,\n",
      "  'n_pairs': 20,\n",
      "  'n_unique_tickers': 16,\n",
      "  'pairs': [...]},\n",
      " {'portfolio_start': 961.9304933781835,\n",
      "  'portfolio_end': 953.3688641811412,\n",
      "  'portfolio_values': [...],\n",
      "  'simulation_start': '2021-01-01',\n",
      "  'simulation_end': '2022-01-01',\n",
      "  'cash': [...],\n",
      "  'profit_pairs': 6,\n",
      "  'loss_pairs': 14,\n",
      "  'non_convergent_pairs': 8,\n",
      "  'roi': -0.8900465528413548}]\n"
     ]
    }
   ],
   "source": [
    "from utils.utils import open_pickle\n",
    "\n",
    "\n",
    "portfolio=open_pickle(pairs_alg,trading_alg,index,sector,start_date,end_date,months_trading,months_forming)\n",
    "\n",
    "if portfolio is not None:\n",
    "    portfolio.print()\n"
   ]
  }
 ],
 "metadata": {
  "kernelspec": {
   "display_name": "Python 3",
   "language": "python",
   "name": "python3"
  },
  "language_info": {
   "codemirror_mode": {
    "name": "ipython",
    "version": 3
   },
   "file_extension": ".py",
   "mimetype": "text/x-python",
   "name": "python",
   "nbconvert_exporter": "python",
   "pygments_lexer": "ipython3",
   "version": "3.10.0"
  },
  "orig_nbformat": 4
 },
 "nbformat": 4,
 "nbformat_minor": 2
}
